{
 "cells": [
  {
   "cell_type": "markdown",
   "metadata": {
    "collapsed": true
   },
   "source": [
    "### 1.练习\n",
    "**解一元二次方程**  \n",
    "解一元二次方程，是初中数学中的基本知识，一般来讲解法有：公式法、因式分解法等。读者可以根据自己的理解，写一段求解一元二次方程的程序。"
   ]
  },
  {
   "cell_type": "code",
   "execution_count": 12,
   "metadata": {},
   "outputs": [
    {
     "output_type": "execute_result",
     "data": {
      "text/plain": "[1.0, -1.0]"
     },
     "metadata": {},
     "execution_count": 12
    }
   ],
   "source": [
    "# 思路：先求△=b** - 4ac的情况，大于0两个解，等于0一个解，小于0无解\n",
    "# 再根据公式解出值\n",
    "# ax^2 + bx + c = 0\n",
    "import math\n",
    "def func(a, b, c):\n",
    "    deta = b**2 - 4*a*c\n",
    "    if deta > 0:\n",
    "        x1 = (-b + math.sqrt(deta))/2*a\n",
    "        x2 = (-b - math.sqrt(deta))/2*a\n",
    "        return [x1, x2]\n",
    "    elif deta == 0:\n",
    "        return -b / 2*a\n",
    "    else:\n",
    "        return \"方程无实根\"\n",
    "\n",
    "func(1, 0, -1)"
   ]
  },
  {
   "cell_type": "markdown",
   "metadata": {},
   "source": [
    "### 2.练习\n",
    "**统计考试成绩**  \n",
    "每次考试之后，教师都要统计考试成绩，一般包括：平均分，对所有人按成绩从高到低排队，谁成绩最好，谁成绩最差。还有其它的统计项，暂且不做了。只统计这几项吧。下面的任务就是读者转动脑筋，思考如何用程序实现上面的统计。为了简化，以字典形式表示考试成绩记录，例如：{\"zhangsan\":90, \"lisi\":78, \"wangermazi\":39}，当然，也许不止这三项，可能还有，每个老师所处理的内容稍有不同，因此字典里的键值对也不一样。"
   ]
  },
  {
   "cell_type": "code",
   "execution_count": 58,
   "metadata": {
    "tags": []
   },
   "outputs": [
    {
     "output_type": "stream",
     "name": "stdout",
     "text": "平均分为:69.0\n排序后为:{'zhangsan': 90, 'lisi': 78, 'wangermazi': 39}\n最高分为:{'zhangsan': 90}\n最低分为:{'wangermazi': 39}\n"
    }
   ],
   "source": [
    "grade = {\"zhangsan\":90, \"lisi\":78, \"wangermazi\":39}\n",
    "# 求平均分\n",
    "def average_grade(grade):\n",
    "    sum = 0\n",
    "    for value in grade.values():\n",
    "        sum += value\n",
    "    return sum/len(grade)\n",
    "# 排序，从高到低\n",
    "def sort_grade(grade):\n",
    "    grade_list = []\n",
    "    for k in grade:\n",
    "        grade_list.append((grade[k],k))\n",
    "    grade_list = sorted(grade_list, reverse=True)\n",
    "    sort_grade = {}\n",
    "    for key,value in grade_list:\n",
    "        sort_grade[value] = key\n",
    "    return sort_grade\n",
    "# 成绩最好\n",
    "def max_grade(grade):\n",
    "    grade_list = []\n",
    "    for k in grade:\n",
    "        grade_list.append((grade[k],k))\n",
    "    grade_list = sorted(grade_list, reverse=True)\n",
    "    max_grade_tuple = grade_list[0]\n",
    "    max_grade = {}\n",
    "    max_grade[max_grade_tuple[1]] = max_grade_tuple[0]\n",
    "    return max_grade\n",
    "# 成绩最差\n",
    "def min_grade(grade):\n",
    "    grade_list = []\n",
    "    for k in grade:\n",
    "        grade_list.append((grade[k],k))\n",
    "    grade_list = sorted(grade_list, reverse=True)\n",
    "    min_grade_tuple = grade_list[-1]\n",
    "    min_grade = {}\n",
    "    min_grade[min_grade_tuple[1]] = min_grade_tuple[0]\n",
    "    return min_grade\n",
    "\n",
    "print(f'平均分为:{average_grade(grade)}')\n",
    "print(f'排序后为:{sort_grade(grade)}')\n",
    "print(f'最高分为:{max_grade(grade)}')\n",
    "print(f'最低分为:{min_grade(grade)}')"
   ]
  },
  {
   "cell_type": "markdown",
   "metadata": {},
   "source": [
    "### 3.练习\n",
    "**找素数**  \n",
    "求100以内的素数"
   ]
  },
  {
   "cell_type": "code",
   "execution_count": 20,
   "metadata": {},
   "outputs": [
    {
     "output_type": "execute_result",
     "data": {
      "text/plain": "[2,\n 3,\n 5,\n 7,\n 11,\n 13,\n 17,\n 19,\n 23,\n 29,\n 31,\n 37,\n 41,\n 43,\n 47,\n 53,\n 59,\n 61,\n 67,\n 71,\n 73,\n 79,\n 83,\n 89,\n 97]"
     },
     "metadata": {},
     "execution_count": 20
    }
   ],
   "source": [
    "import math\n",
    "n = 100\n",
    "def get_prime(n):\n",
    "    primes = []\n",
    "    for i in range(2, n):\n",
    "        is_prime = True\n",
    "        for j in range(2, int(math.sqrt(i) + 1)):\n",
    "            if i % j == 0:\n",
    "                is_prime = False\n",
    "        if is_prime != False:\n",
    "                primes.append(i)\n",
    "        is_prime = True\n",
    "    return primes\n",
    "\n",
    "get_prime(n)"
   ]
  },
  {
   "cell_type": "code",
   "execution_count": null,
   "metadata": {},
   "outputs": [],
   "source": []
  }
 ],
 "metadata": {
  "kernelspec": {
   "display_name": "Python 3",
   "language": "python",
   "name": "python3"
  },
  "language_info": {
   "codemirror_mode": {
    "name": "ipython",
    "version": 2
   },
   "file_extension": ".py",
   "mimetype": "text/x-python",
   "name": "python",
   "nbconvert_exporter": "python",
   "pygments_lexer": "ipython2",
   "version": "3.7.7-final"
  }
 },
 "nbformat": 4,
 "nbformat_minor": 0
}