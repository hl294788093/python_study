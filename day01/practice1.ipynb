{
 "cells": [
  {
   "cell_type": "markdown",
   "metadata": {},
   "source": [
    "### 1.练习\n",
    "有一个列表，其中包括 10 个元素，例如这个列表是\\[1,2,3,4,5,6,7,8,9,0\\],要求将列表中的每个元素一次向前移动一个位置，第一个元素到列表的最后，然后输出这个列表。最终样式是\\[2,3,4,5,6,7,8,9,0,1\\]"
   ]
  },
  {
   "cell_type": "code",
   "execution_count": 1,
   "metadata": {
    "tags": []
   },
   "outputs": [
    {
     "output_type": "stream",
     "name": "stdout",
     "text": "[2, 3, 5, 6, 7, 8, 9, 0, 1]\n"
    }
   ],
   "source": [
    "list = [1, 2, 3, 5, 6, 7, 8, 9, 0]\n",
    "a = list.pop(0)  # 删除第一个元素并记录\n",
    "list.append(a)  # 将第一个元素追加到最后\n",
    "print(list)"
   ]
  },
  {
   "cell_type": "markdown",
   "metadata": {},
   "source": [
    "### 2.练习\n",
    "按照下面的要求实现对列表的操作：  \n",
    "1. 产生一个列表，其中有 40 个元素，每个元素是 0 到 100 的一个随机整数  \n",
    "2. 如果这个列表中的数据代表着某个班级 40 人的分数，请计算成绩低于平均分的学生人数，并输出  \n",
    "3. 对上面的列表元素从大到小排序"
   ]
  },
  {
   "cell_type": "code",
   "execution_count": 27,
   "metadata": {
    "tags": []
   },
   "outputs": [
    {
     "output_type": "stream",
     "name": "stdout",
     "text": "[12, 26, 69, 4, 46, 29, 37, 21, 8, 1, 100, 14, 52, 72, 31, 82, 13, 47, 89, 99, 60, 58, 51, 58, 11, 51, 72, 6, 92, 30, 24, 69, 6, 100, 44, 88, 89, 35, 51, 11]\n低于平均分的人数为20人\n[100, 100, 99, 92, 89, 89, 88, 82, 72, 72, 69, 69, 60, 58, 58, 52, 51, 51, 51, 47, 46, 44, 37, 35, 31, 30, 29, 26, 24, 21, 14, 13, 12, 11, 11, 8, 6, 6, 4, 1]\n"
    }
   ],
   "source": [
    "import random\n",
    "# 生成列表\n",
    "list = []\n",
    "for i in range(40):\n",
    "    list.append(random.randint(0,100))\n",
    "print(list)\n",
    "# 输出低于平均分的学生人数\n",
    "average = sum(list) / 40\n",
    "count = 0\n",
    "for i in range(40):\n",
    "    if list[i] < average:\n",
    "        count += 1\n",
    "print(f'低于平均分的人数为{count}人')\n",
    "# 从大到小排序(冒泡排序)\n",
    "for i in range(40):\n",
    "    for j in range(40 - i - 1):\n",
    "        if list[j] < list[j+1]:\n",
    "            temp = list[j+1]\n",
    "            list[j+1] = list[j]\n",
    "            list[j] = temp\n",
    "print(list)"
   ]
  },
  {
   "cell_type": "markdown",
   "metadata": {},
   "source": [
    "### 3.练习\n",
    "如果将一句话作为一个字符串，那么这个字符串中必然会有空格（这里仅讨论英文），比如\"How are you.\"，但有的时候，会在两个单词之间多大一个空格。现在的任务是，如果一个字符串中有连续的两个空格，请把它删除。"
   ]
  },
  {
   "cell_type": "code",
   "execution_count": 19,
   "metadata": {
    "tags": []
   },
   "outputs": [
    {
     "output_type": "stream",
     "name": "stdout",
     "text": "How are you, i'm fine\n"
    }
   ],
   "source": [
    "# 方法1，遍历字符串，遇到2个空格则删除一个\n",
    "str = \"How  are  you, i'm  fine\"\n",
    "newStr = ''\n",
    "for i in range(len(str)):\n",
    "    if str[i] == ' ' and str[i+1] == ' ':\n",
    "        continue\n",
    "    newStr += str[i]\n",
    "print(newStr)\n"
   ]
  },
  {
   "cell_type": "code",
   "execution_count": 20,
   "metadata": {
    "tags": []
   },
   "outputs": [
    {
     "output_type": "stream",
     "name": "stdout",
     "text": "How are you, i'm fine \n"
    }
   ],
   "source": [
    "# 方法2，按空格分隔后重新拼接\n",
    "str = \"How  are  you, i'm fine\"\n",
    "list = str.split(' ') # 以空格符分割\n",
    "list = [x.strip() for x in list if x.strip() != '']\n",
    "newStr = ''\n",
    "for x in list:\n",
    "    newStr += x + ' '\n",
    "print(newStr)"
   ]
  },
  {
   "cell_type": "markdown",
   "metadata": {},
   "source": [
    "### 4.练习\n",
    "求出斐波那契数列n=100的值"
   ]
  },
  {
   "cell_type": "code",
   "execution_count": 22,
   "metadata": {
    "tags": []
   },
   "outputs": [
    {
     "output_type": "stream",
     "name": "stdout",
     "text": "55\n"
    }
   ],
   "source": [
    "# 方法1\n",
    "a = 0\n",
    "b = 1\n",
    "n = 10\n",
    "for i in range(n - 1):\n",
    "    temp = a\n",
    "    a = b\n",
    "    b = temp + b\n",
    "print(b)"
   ]
  },
  {
   "cell_type": "code",
   "execution_count": 21,
   "metadata": {},
   "outputs": [
    {
     "output_type": "execute_result",
     "data": {
      "text/plain": "55"
     },
     "metadata": {},
     "execution_count": 21
    }
   ],
   "source": [
    "# 方法2\n",
    "def fib(n):\n",
    "    if n == 1:\n",
    "        return 1\n",
    "    if n == 2:\n",
    "        return 1\n",
    "    if n > 2:\n",
    "        return fib(n-1) + fib(n-2)\n",
    "\n",
    "fib(10)"
   ]
  }
 ],
 "metadata": {
  "language_info": {
   "codemirror_mode": {
    "name": "ipython",
    "version": 3
   },
   "file_extension": ".py",
   "mimetype": "text/x-python",
   "name": "python",
   "nbconvert_exporter": "python",
   "pygments_lexer": "ipython3",
   "version": "3.7.7-final"
  },
  "orig_nbformat": 2,
  "kernelspec": {
   "name": "python37764bitvenvvenv5c66052239324f15a495a7f0c3a1df40",
   "display_name": "Python 3.7.7 64-bit ('venv': venv)"
  }
 },
 "nbformat": 4,
 "nbformat_minor": 2
}