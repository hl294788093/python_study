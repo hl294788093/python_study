{
 "cells": [
  {
   "cell_type": "markdown",
   "metadata": {},
   "source": [
    "### 1.练习\n",
    "有一个列表，其中包括 10 个元素，例如这个列表是\\[1,2,3,4,5,6,7,8,9,0\\],要求将列表中的每个元素一次向前移动一个位置，第一个元素到列表的最后，然后输出这个列表。最终样式是\\[2,3,4,5,6,7,8,9,0,1\\]"
   ]
  },
  {
   "cell_type": "code",
   "execution_count": 1,
   "metadata": {
    "tags": []
   },
   "outputs": [
    {
     "output_type": "stream",
     "name": "stdout",
     "text": "deque([2, 3, 5, 6, 7, 8, 9, 0, 1])\n"
    }
   ],
   "source": [
    "from collections import deque\n",
    "\n",
    "num_deque = deque([1, 2, 3, 5, 6, 7, 8, 9, 0])\n",
    "first_num = num_deque.popleft()\n",
    "num_deque.append(first_num)\n",
    "print(num_deque)"
   ]
  },
  {
   "cell_type": "markdown",
   "metadata": {},
   "source": [
    "### 2.练习\n",
    "按照下面的要求实现对列表的操作：  \n",
    "1. 产生一个列表，其中有 40 个元素，每个元素是 0 到 100 的一个随机整数  \n",
    "2. 如果这个列表中的数据代表着某个班级 40 人的分数，请计算成绩低于平均分的学生人数，并输出  \n",
    "3. 对上面的列表元素从大到小排序"
   ]
  },
  {
   "cell_type": "code",
   "execution_count": 1,
   "metadata": {
    "tags": []
   },
   "outputs": [
    {
     "output_type": "stream",
     "name": "stdout",
     "text": "[33, 83, 28, 87, 57, 4, 19, 39, 72, 4, 33, 52, 84, 1, 91, 94, 48, 3, 74, 88, 1, 65, 78, 83, 51, 41, 21, 28, 54, 51, 46, 15, 98, 43, 76, 91, 20, 63, 13, 13]\n低于平均分的人数为20人\n[98, 94, 91, 91, 88, 87, 84, 83, 83, 78, 76, 74, 72, 65, 63, 57, 54, 52, 51, 51, 48, 46, 43, 41, 39, 33, 33, 28, 28, 21, 20, 19, 15, 13, 13, 4, 4, 3, 1, 1]\n"
    }
   ],
   "source": [
    "import random\n",
    "\n",
    "TOTAL_STUDENT = 40\n",
    "# 生成成绩列表\n",
    "def get_score_list(total_student, max_number=100):\n",
    "    return [random.randint(0,100) for i in range(40)]\n",
    "score_list = get_score_list(TOTAL_STUDENT)\n",
    "print(score_list)\n",
    "\n",
    "# 输出低于平均分的学生人数\n",
    "def filter_under_average(score_list):\n",
    "    average = sum(score_list) / TOTAL_STUDENT\n",
    "    count = 0\n",
    "    for i in range(TOTAL_STUDENT):\n",
    "        if score_list[i] < average:\n",
    "            count += 1\n",
    "    return count\n",
    "under_average_num = filter_under_average(score_list)\n",
    "print(f'低于平均分的人数为{under_average_num}人')\n",
    "\n",
    "# 从大到小排序(冒泡排序)\n",
    "for i in range(40):\n",
    "    for j in range(40 - i - 1):\n",
    "        if score_list[j] < score_list[j+1]:\n",
    "            score_list[j], score_list[j+1] = score_list[j+1], score_list[j]\n",
    "print(score_list)"
   ]
  },
  {
   "cell_type": "markdown",
   "metadata": {},
   "source": [
    "### 3.练习\n",
    "如果将一句话作为一个字符串，那么这个字符串中必然会有空格（这里仅讨论英文），比如\"How are you.\"，但有的时候，会在两个单词之间多大一个空格。现在的任务是，如果一个字符串中有连续的两个空格，请把它删除。"
   ]
  },
  {
   "cell_type": "code",
   "execution_count": 15,
   "metadata": {
    "tags": []
   },
   "outputs": [
    {
     "output_type": "stream",
     "name": "stdout",
     "text": "How are you, i'm fine\n"
    }
   ],
   "source": [
    "# 方法1，遍历字符串，遇到2个空格则删除一个\n",
    "old_str = \"How  are  you, i'm  fine\"\n",
    "new_str = ''\n",
    "for i in range(len(old_str)):\n",
    "    if old_str[i] == ' ' and old_str[i+1] == ' ':\n",
    "        continue\n",
    "    new_str += old_str[i]\n",
    "print(new_str)"
   ]
  },
  {
   "cell_type": "code",
   "execution_count": 17,
   "metadata": {
    "tags": []
   },
   "outputs": [
    {
     "output_type": "stream",
     "name": "stdout",
     "text": "How are you, i'm fine\n"
    }
   ],
   "source": [
    "# 方法2，按空格分隔后重新拼接\n",
    "old_str = \"How  are  you, i'm fine\"\n",
    "word_list = old_str.split(' ') # 以空格符分割\n",
    "word_list = [x.strip() for x in word_list if x.strip() != '']\n",
    "new_str = ' '.join(word_list)\n",
    "print(new_str)"
   ]
  },
  {
   "cell_type": "markdown",
   "metadata": {},
   "source": [
    "### 4.练习\n",
    "求出斐波那契数列n=100的值"
   ]
  },
  {
   "cell_type": "code",
   "execution_count": 19,
   "metadata": {
    "tags": []
   },
   "outputs": [
    {
     "output_type": "stream",
     "name": "stdout",
     "text": "55\n"
    }
   ],
   "source": [
    "# 方法1\n",
    "a = 0\n",
    "b = 1\n",
    "n = 10\n",
    "for i in range(n - 1):\n",
    "    a, b = b, a+b\n",
    "print(b)"
   ]
  },
  {
   "cell_type": "code",
   "execution_count": 21,
   "metadata": {},
   "outputs": [
    {
     "output_type": "execute_result",
     "data": {
      "text/plain": "55"
     },
     "metadata": {},
     "execution_count": 21
    }
   ],
   "source": [
    "# 方法2，递归调用\n",
    "def fib(n):\n",
    "    if n == 1:\n",
    "        return 1\n",
    "    if n == 2:\n",
    "        return 1\n",
    "    if n > 2:\n",
    "        return fib(n-1) + fib(n-2)\n",
    "\n",
    "fib(10)"
   ]
  }
 ],
 "metadata": {
  "language_info": {
   "codemirror_mode": {
    "name": "ipython",
    "version": 3
   },
   "file_extension": ".py",
   "mimetype": "text/x-python",
   "name": "python",
   "nbconvert_exporter": "python",
   "pygments_lexer": "ipython3",
   "version": "3.7.7-final"
  },
  "orig_nbformat": 2,
  "kernelspec": {
   "name": "python37764bitvenvvenv5c66052239324f15a495a7f0c3a1df40",
   "display_name": "Python 3.7.7 64-bit ('venv': venv)"
  }
 },
 "nbformat": 4,
 "nbformat_minor": 2
}